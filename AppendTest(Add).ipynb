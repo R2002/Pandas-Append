{
 "cells": [
  {
   "cell_type": "code",
   "execution_count": 1,
   "id": "5cd875ff",
   "metadata": {},
   "outputs": [],
   "source": [
    "import pandas as pd\n",
    "import numpy as np\n",
    "import time, random\n",
    "from tqdm import tqdm\n",
    "import matplotlib.pyplot as plt"
   ]
  },
  {
   "cell_type": "markdown",
   "id": "b78cbbef",
   "metadata": {},
   "source": [
    "# Define Functions"
   ]
  },
  {
   "cell_type": "code",
   "execution_count": 2,
   "id": "32ede041",
   "metadata": {},
   "outputs": [],
   "source": [
    "iter_num = 10000"
   ]
  },
  {
   "cell_type": "markdown",
   "id": "e5c4f5a1",
   "metadata": {},
   "source": [
    "## List Append"
   ]
  },
  {
   "cell_type": "code",
   "execution_count": 3,
   "id": "bd5eae09",
   "metadata": {},
   "outputs": [],
   "source": [
    "def list_append():\n",
    "    time_start = time.time()\n",
    "\n",
    "    list_temp = []\n",
    "    for i in range(iter_num):\n",
    "        a = random.randint(50, 100)\n",
    "        b = random.randint(50, 100)\n",
    "        list_temp.append([a, b])\n",
    "\n",
    "    df = pd.DataFrame(list_temp, columns=['input_a', 'input_b'])\n",
    "    time_delta = time.time() - time_start\n",
    "    \n",
    "    return time_delta"
   ]
  },
  {
   "cell_type": "markdown",
   "id": "4b795e2f",
   "metadata": {},
   "source": [
    "## Pandas from_dict"
   ]
  },
  {
   "cell_type": "markdown",
   "id": "a38386fb",
   "metadata": {},
   "source": [
    "### key='columns' (default)"
   ]
  },
  {
   "cell_type": "code",
   "execution_count": 4,
   "id": "5dd49bdd",
   "metadata": {},
   "outputs": [],
   "source": [
    "def from_dict_columns():\n",
    "    time_start = time.time()\n",
    "\n",
    "    dict_col = {'input_a': [], 'input_b': []}\n",
    "    for i in range(iter_num):\n",
    "        a = random.randint(50, 100)\n",
    "        b = random.randint(50, 100)\n",
    "        dict_col['input_a'].append(a)\n",
    "        dict_col['input_b'].append(b)\n",
    "\n",
    "    df = pd.DataFrame.from_dict(dict_col, orient='columns')\n",
    "    time_delta = time.time() - time_start\n",
    "    \n",
    "    return time_delta"
   ]
  },
  {
   "cell_type": "markdown",
   "id": "2b10b4a7",
   "metadata": {},
   "source": [
    "### key='index'"
   ]
  },
  {
   "cell_type": "code",
   "execution_count": 5,
   "id": "2385aea4",
   "metadata": {},
   "outputs": [],
   "source": [
    "def from_dict_index():\n",
    "    time_start = time.time()\n",
    "\n",
    "    dict_idx = {}\n",
    "    for i in range(iter_num):\n",
    "        a = random.randint(50, 100)\n",
    "        b = random.randint(50, 100)\n",
    "        dict_idx[i] = [a, b]\n",
    "\n",
    "    df = pd.DataFrame.from_dict(dict_idx, orient='index', columns=['input_a', 'input_b'])\n",
    "    time_delta = time.time() - time_start\n",
    "    \n",
    "    return time_delta"
   ]
  },
  {
   "cell_type": "markdown",
   "id": "5a6293c7",
   "metadata": {},
   "source": [
    "# Iter Functions"
   ]
  },
  {
   "cell_type": "code",
   "execution_count": 6,
   "id": "040c8d87",
   "metadata": {},
   "outputs": [],
   "source": [
    "func_num = 1000"
   ]
  },
  {
   "cell_type": "code",
   "execution_count": 7,
   "id": "86bb9498",
   "metadata": {},
   "outputs": [],
   "source": [
    "list_funcs = ['list_append', 'from_dict_columns', 'from_dict_index']\n",
    "dict_funcs = {}"
   ]
  },
  {
   "cell_type": "code",
   "execution_count": 8,
   "id": "856a29c3",
   "metadata": {},
   "outputs": [
    {
     "name": "stderr",
     "output_type": "stream",
     "text": [
      "100%|██████████| 1000/1000 [00:18<00:00, 53.92it/s]\n",
      "100%|██████████| 1000/1000 [00:15<00:00, 63.92it/s]\n",
      "100%|██████████| 1000/1000 [00:20<00:00, 48.38it/s]\n"
     ]
    }
   ],
   "source": [
    "for funcs in list_funcs:\n",
    "    list_sec = []\n",
    "    for i in tqdm(range(func_num)):\n",
    "        list_sec.append(eval(funcs)())\n",
    "    dict_funcs[funcs] = list_sec"
   ]
  },
  {
   "cell_type": "markdown",
   "id": "223355cf",
   "metadata": {},
   "source": [
    "# Display Results"
   ]
  },
  {
   "cell_type": "code",
   "execution_count": 9,
   "id": "11c86020",
   "metadata": {},
   "outputs": [
    {
     "data": {
      "image/png": "[encoded data removed]",
      "text/plain": [
       "<Figure size 432x288 with 1 Axes>"
      ]
     },
     "metadata": {
      "needs_background": "light"
     },
     "output_type": "display_data"
    }
   ],
   "source": [
    "dict_results = {}\n",
    "for key, list_secs in dict_funcs.items():\n",
    "    plt.hist(list_secs, bins=100, label=key)\n",
    "    dict_results[key] = [np.average(list_secs), np.var(list_secs), np.median(list_secs)]\n",
    "plt.legend()\n",
    "plt.show()"
   ]
  },
  {
   "cell_type": "code",
   "execution_count": 10,
   "id": "24d6a898",
   "metadata": {},
   "outputs": [],
   "source": [
    "df_results = pd.DataFrame.from_dict(dict_results, orient='index', columns=['Ave.', 'Var.', 'Med.'])"
   ]
  },
  {
   "cell_type": "code",
   "execution_count": 11,
   "id": "87a578c4",
   "metadata": {},
   "outputs": [
    {
     "data": {
      "text/html": [
       "<div>\n",
       "<style scoped>\n",
       "    .dataframe tbody tr th:only-of-type {\n",
       "        vertical-align: middle;\n",
       "    }\n",
       "\n",
       "    .dataframe tbody tr th {\n",
       "        vertical-align: top;\n",
       "    }\n",
       "\n",
       "    .dataframe thead th {\n",
       "        text-align: right;\n",
       "    }\n",
       "</style>\n",
       "<table border=\"1\" class=\"dataframe\">\n",
       "  <thead>\n",
       "    <tr style=\"text-align: right;\">\n",
       "      <th></th>\n",
       "      <th>Ave.</th>\n",
       "      <th>Var.</th>\n",
       "      <th>Med.</th>\n",
       "    </tr>\n",
       "  </thead>\n",
       "  <tbody>\n",
       "    <tr>\n",
       "      <th>list_append</th>\n",
       "      <td>0.018305</td>\n",
       "      <td>0.000127</td>\n",
       "      <td>0.015625</td>\n",
       "    </tr>\n",
       "    <tr>\n",
       "      <th>from_dict_columns</th>\n",
       "      <td>0.015491</td>\n",
       "      <td>0.000047</td>\n",
       "      <td>0.015623</td>\n",
       "    </tr>\n",
       "    <tr>\n",
       "      <th>from_dict_index</th>\n",
       "      <td>0.020423</td>\n",
       "      <td>0.000138</td>\n",
       "      <td>0.015917</td>\n",
       "    </tr>\n",
       "  </tbody>\n",
       "</table>\n",
       "</div>"
      ],
      "text/plain": [
       "                       Ave.      Var.      Med.\n",
       "list_append        0.018305  0.000127  0.015625\n",
       "from_dict_columns  0.015491  0.000047  0.015623\n",
       "from_dict_index    0.020423  0.000138  0.015917"
      ]
     },
     "execution_count": 11,
     "metadata": {},
     "output_type": "execute_result"
    }
   ],
   "source": [
    "df_results"
   ]
  },
  {
   "cell_type": "code",
   "execution_count": null,
   "id": "d2a8a9b4",
   "metadata": {},
   "outputs": [],
   "source": []
  }
 ],
 "metadata": {
  "kernelspec": {
   "display_name": "Python 3 (ipykernel)",
   "language": "python",
   "name": "python3"
  },
  "language_info": {
   "codemirror_mode": {
    "name": "ipython",
    "version": 3
   },
   "file_extension": ".py",
   "mimetype": "text/x-python",
   "name": "python",
   "nbconvert_exporter": "python",
   "pygments_lexer": "ipython3",
   "version": "3.9.7"
  }
 },
 "nbformat": 4,
 "nbformat_minor": 5
}
