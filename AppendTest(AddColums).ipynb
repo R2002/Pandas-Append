{
 "cells": [
  {
   "cell_type": "code",
   "execution_count": 1,
   "id": "5cd875ff",
   "metadata": {},
   "outputs": [],
   "source": [
    "import pandas as pd\n",
    "import numpy as np\n",
    "import time, random\n",
    "from tqdm import tqdm\n",
    "import matplotlib.pyplot as plt"
   ]
  },
  {
   "cell_type": "markdown",
   "id": "191334cd",
   "metadata": {},
   "source": [
    "# Define Functions"
   ]
  },
  {
   "cell_type": "code",
   "execution_count": 2,
   "id": "32ede041",
   "metadata": {},
   "outputs": [],
   "source": [
    "iter_num = 10000"
   ]
  },
  {
   "cell_type": "markdown",
   "id": "e5c4f5a1",
   "metadata": {},
   "source": [
    "## List Append"
   ]
  },
  {
   "cell_type": "code",
   "execution_count": 3,
   "id": "bd5eae09",
   "metadata": {},
   "outputs": [],
   "source": [
    "def list_append():\n",
    "    time_start = time.time()\n",
    "\n",
    "    list_temp = []\n",
    "    for i in range(iter_num):\n",
    "        a = random.randint(50, 100)\n",
    "        b = random.randint(50, 100)\n",
    "        c = random.randint(50, 100)\n",
    "        list_temp.append([a, b, c])\n",
    "\n",
    "    df = pd.DataFrame(list_temp, columns=['input_a', 'input_b', 'input_c'])\n",
    "    time_delta = time.time() - time_start\n",
    "    \n",
    "    return time_delta"
   ]
  },
  {
   "cell_type": "markdown",
   "id": "4b795e2f",
   "metadata": {},
   "source": [
    "## Pandas from_dict"
   ]
  },
  {
   "cell_type": "markdown",
   "id": "a38386fb",
   "metadata": {},
   "source": [
    "### key='columns' (default)"
   ]
  },
  {
   "cell_type": "code",
   "execution_count": 4,
   "id": "5dd49bdd",
   "metadata": {},
   "outputs": [],
   "source": [
    "def from_dict_columns():\n",
    "    time_start = time.time()\n",
    "\n",
    "    dict_col = {'input_a': [], 'input_b': [], 'input_c': []}\n",
    "    for i in range(iter_num):\n",
    "        a = random.randint(50, 100)\n",
    "        b = random.randint(50, 100)\n",
    "        c = random.randint(50, 100)\n",
    "        dict_col['input_a'].append(a)\n",
    "        dict_col['input_b'].append(b)\n",
    "        dict_col['input_c'].append(c)\n",
    "\n",
    "    df = pd.DataFrame.from_dict(dict_col, orient='columns')\n",
    "    time_delta = time.time() - time_start\n",
    "    \n",
    "    return time_delta"
   ]
  },
  {
   "cell_type": "markdown",
   "id": "2b10b4a7",
   "metadata": {},
   "source": [
    "### key='index'"
   ]
  },
  {
   "cell_type": "code",
   "execution_count": 5,
   "id": "2385aea4",
   "metadata": {},
   "outputs": [],
   "source": [
    "def from_dict_index():\n",
    "    time_start = time.time()\n",
    "\n",
    "    dict_idx = {}\n",
    "    for i in range(iter_num):\n",
    "        a = random.randint(50, 100)\n",
    "        b = random.randint(50, 100)\n",
    "        c = random.randint(50, 100)\n",
    "        dict_idx[i] = [a, b, c]\n",
    "\n",
    "    df = pd.DataFrame.from_dict(dict_idx, orient='index', columns=['input_a', 'input_b', 'input_c'])\n",
    "    time_delta = time.time() - time_start\n",
    "    \n",
    "    return time_delta"
   ]
  },
  {
   "cell_type": "markdown",
   "id": "68f95fd9",
   "metadata": {},
   "source": [
    "# Iter Functions"
   ]
  },
  {
   "cell_type": "code",
   "execution_count": 6,
   "id": "936b388f",
   "metadata": {},
   "outputs": [],
   "source": [
    "func_num = 1000"
   ]
  },
  {
   "cell_type": "code",
   "execution_count": 7,
   "id": "030fc7e5",
   "metadata": {},
   "outputs": [],
   "source": [
    "list_funcs = ['list_append', 'from_dict_columns', 'from_dict_index']\n",
    "dict_funcs = {}"
   ]
  },
  {
   "cell_type": "code",
   "execution_count": 8,
   "id": "856a29c3",
   "metadata": {},
   "outputs": [
    {
     "name": "stderr",
     "output_type": "stream",
     "text": [
      "100%|██████████| 1000/1000 [00:25<00:00, 38.76it/s]\n",
      "100%|██████████| 1000/1000 [00:22<00:00, 43.74it/s]\n",
      "100%|██████████| 1000/1000 [00:27<00:00, 35.74it/s]\n"
     ]
    }
   ],
   "source": [
    "for funcs in list_funcs:\n",
    "    list_sec = []\n",
    "    for i in tqdm(range(func_num)):\n",
    "        list_sec.append(eval(funcs)())\n",
    "    dict_funcs[funcs] = list_sec"
   ]
  },
  {
   "cell_type": "markdown",
   "id": "47b4a0e1",
   "metadata": {},
   "source": [
    "# Display Results"
   ]
  },
  {
   "cell_type": "code",
   "execution_count": 9,
   "id": "edb90928",
   "metadata": {},
   "outputs": [
    {
     "data": {
      "image/png": "[encoded data removed]",
      "text/plain": [
       "<Figure size 432x288 with 1 Axes>"
      ]
     },
     "metadata": {
      "needs_background": "light"
     },
     "output_type": "display_data"
    }
   ],
   "source": [
    "dict_results = {}\n",
    "for key, list_secs in dict_funcs.items():\n",
    "    plt.hist(list_secs, bins=100, label=key)\n",
    "    dict_results[key] = [np.average(list_secs), np.var(list_secs), np.median(list_secs)]\n",
    "plt.legend()\n",
    "plt.show()"
   ]
  },
  {
   "cell_type": "code",
   "execution_count": 10,
   "id": "194f0b0a",
   "metadata": {},
   "outputs": [],
   "source": [
    "df_results = pd.DataFrame.from_dict(dict_results, orient='index', columns=['Ave.', 'Var.', 'Med.'])"
   ]
  },
  {
   "cell_type": "code",
   "execution_count": 11,
   "id": "f8366ed9",
   "metadata": {},
   "outputs": [
    {
     "data": {
      "text/html": [
       "<div>\n",
       "<style scoped>\n",
       "    .dataframe tbody tr th:only-of-type {\n",
       "        vertical-align: middle;\n",
       "    }\n",
       "\n",
       "    .dataframe tbody tr th {\n",
       "        vertical-align: top;\n",
       "    }\n",
       "\n",
       "    .dataframe thead th {\n",
       "        text-align: right;\n",
       "    }\n",
       "</style>\n",
       "<table border=\"1\" class=\"dataframe\">\n",
       "  <thead>\n",
       "    <tr style=\"text-align: right;\">\n",
       "      <th></th>\n",
       "      <th>Ave.</th>\n",
       "      <th>Var.</th>\n",
       "      <th>Med.</th>\n",
       "    </tr>\n",
       "  </thead>\n",
       "  <tbody>\n",
       "    <tr>\n",
       "      <th>list_append</th>\n",
       "      <td>0.025415</td>\n",
       "      <td>0.000128</td>\n",
       "      <td>0.020978</td>\n",
       "    </tr>\n",
       "    <tr>\n",
       "      <th>from_dict_columns</th>\n",
       "      <td>0.022719</td>\n",
       "      <td>0.000064</td>\n",
       "      <td>0.020025</td>\n",
       "    </tr>\n",
       "    <tr>\n",
       "      <th>from_dict_index</th>\n",
       "      <td>0.027730</td>\n",
       "      <td>0.000160</td>\n",
       "      <td>0.024980</td>\n",
       "    </tr>\n",
       "  </tbody>\n",
       "</table>\n",
       "</div>"
      ],
      "text/plain": [
       "                       Ave.      Var.      Med.\n",
       "list_append        0.025415  0.000128  0.020978\n",
       "from_dict_columns  0.022719  0.000064  0.020025\n",
       "from_dict_index    0.027730  0.000160  0.024980"
      ]
     },
     "execution_count": 11,
     "metadata": {},
     "output_type": "execute_result"
    }
   ],
   "source": [
    "df_results"
   ]
  },
  {
   "cell_type": "code",
   "execution_count": null,
   "id": "9a969970",
   "metadata": {},
   "outputs": [],
   "source": []
  }
 ],
 "metadata": {
  "kernelspec": {
   "display_name": "Python 3 (ipykernel)",
   "language": "python",
   "name": "python3"
  },
  "language_info": {
   "codemirror_mode": {
    "name": "ipython",
    "version": 3
   },
   "file_extension": ".py",
   "mimetype": "text/x-python",
   "name": "python",
   "nbconvert_exporter": "python",
   "pygments_lexer": "ipython3",
   "version": "3.9.7"
  }
 },
 "nbformat": 4,
 "nbformat_minor": 5
}
