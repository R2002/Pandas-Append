{
 "cells": [
  {
   "cell_type": "code",
   "execution_count": 1,
   "id": "5cd875ff",
   "metadata": {},
   "outputs": [],
   "source": [
    "import pandas as pd\n",
    "import numpy as np\n",
    "import time, random\n",
    "from tqdm import tqdm\n",
    "import matplotlib.pyplot as plt"
   ]
  },
  {
   "cell_type": "markdown",
   "id": "191334cd",
   "metadata": {},
   "source": [
    "# Define Functions"
   ]
  },
  {
   "cell_type": "code",
   "execution_count": 2,
   "id": "32ede041",
   "metadata": {},
   "outputs": [],
   "source": [
    "iter_num = 100\n",
    "col_num = 100"
   ]
  },
  {
   "cell_type": "markdown",
   "id": "e5c4f5a1",
   "metadata": {},
   "source": [
    "## List Append"
   ]
  },
  {
   "cell_type": "code",
   "execution_count": 3,
   "id": "bd5eae09",
   "metadata": {},
   "outputs": [],
   "source": [
    "def list_append():\n",
    "    time_start = time.time()\n",
    "\n",
    "    list_temp = []\n",
    "    for i in range(iter_num):\n",
    "        list_array = []\n",
    "        for c in range(col_num):\n",
    "            list_array.append(random.randint(50, 100))\n",
    "        list_temp.append(list_array)\n",
    "\n",
    "    df = pd.DataFrame(list_temp)\n",
    "    time_delta = time.time() - time_start\n",
    "    \n",
    "    return time_delta"
   ]
  },
  {
   "cell_type": "markdown",
   "id": "4b795e2f",
   "metadata": {},
   "source": [
    "## Pandas from_dict"
   ]
  },
  {
   "cell_type": "markdown",
   "id": "a38386fb",
   "metadata": {},
   "source": [
    "### key='columns' (default)"
   ]
  },
  {
   "cell_type": "code",
   "execution_count": 4,
   "id": "5dd49bdd",
   "metadata": {},
   "outputs": [],
   "source": [
    "def from_dict_columns():\n",
    "    time_start = time.time()\n",
    "\n",
    "    dict_col = {}\n",
    "    for c in range(col_num):\n",
    "        dict_col[c] = []\n",
    "    \n",
    "    for i in range(iter_num):\n",
    "        for c in range(col_num):\n",
    "            num = random.randint(50, 100)\n",
    "            dict_col[c].append(num)\n",
    "\n",
    "    df = pd.DataFrame.from_dict(dict_col, orient='columns')\n",
    "    time_delta = time.time() - time_start\n",
    "    \n",
    "    return time_delta"
   ]
  },
  {
   "cell_type": "markdown",
   "id": "2b10b4a7",
   "metadata": {},
   "source": [
    "### key='index'"
   ]
  },
  {
   "cell_type": "code",
   "execution_count": 5,
   "id": "2385aea4",
   "metadata": {},
   "outputs": [],
   "source": [
    "def from_dict_index():\n",
    "    time_start = time.time()\n",
    "\n",
    "    dict_idx = {}\n",
    "    for i in range(iter_num):\n",
    "        list_array = []\n",
    "        for c in range(col_num):\n",
    "            list_array.append(random.randint(50, 100))\n",
    "        dict_idx[i] = list_array\n",
    "\n",
    "    df = pd.DataFrame.from_dict(dict_idx, orient='index')\n",
    "    time_delta = time.time() - time_start\n",
    "    \n",
    "    return time_delta"
   ]
  },
  {
   "cell_type": "markdown",
   "id": "68f95fd9",
   "metadata": {},
   "source": [
    "# Iter Functions"
   ]
  },
  {
   "cell_type": "code",
   "execution_count": 6,
   "id": "936b388f",
   "metadata": {},
   "outputs": [],
   "source": [
    "func_num = 1000"
   ]
  },
  {
   "cell_type": "code",
   "execution_count": 7,
   "id": "030fc7e5",
   "metadata": {},
   "outputs": [],
   "source": [
    "list_funcs = ['list_append', 'from_dict_columns', 'from_dict_index']\n",
    "dict_funcs = {}"
   ]
  },
  {
   "cell_type": "code",
   "execution_count": 8,
   "id": "856a29c3",
   "metadata": {},
   "outputs": [
    {
     "name": "stderr",
     "output_type": "stream",
     "text": [
      "100%|██████████| 1000/1000 [00:08<00:00, 122.25it/s]\n",
      "100%|██████████| 1000/1000 [00:09<00:00, 106.45it/s]\n",
      "100%|██████████| 1000/1000 [00:08<00:00, 113.72it/s]\n"
     ]
    }
   ],
   "source": [
    "for funcs in list_funcs:\n",
    "    list_sec = []\n",
    "    for i in tqdm(range(func_num)):\n",
    "        list_sec.append(eval(funcs)())\n",
    "    dict_funcs[funcs] = list_sec"
   ]
  },
  {
   "cell_type": "markdown",
   "id": "47b4a0e1",
   "metadata": {},
   "source": [
    "# Display Results"
   ]
  },
  {
   "cell_type": "code",
   "execution_count": 9,
   "id": "edb90928",
   "metadata": {},
   "outputs": [
    {
     "data": {
      "image/png": "[encoded data removed]",
      "text/plain": [
       "<Figure size 432x288 with 1 Axes>"
      ]
     },
     "metadata": {
      "needs_background": "light"
     },
     "output_type": "display_data"
    }
   ],
   "source": [
    "dict_results = {}\n",
    "for key, list_secs in dict_funcs.items():\n",
    "    plt.hist(list_secs, bins=100, label=key)\n",
    "    dict_results[key] = [np.average(list_secs), np.var(list_secs), np.median(list_secs)]\n",
    "plt.legend()\n",
    "plt.show()"
   ]
  },
  {
   "cell_type": "code",
   "execution_count": 10,
   "id": "194f0b0a",
   "metadata": {},
   "outputs": [],
   "source": [
    "df_results = pd.DataFrame.from_dict(dict_results, orient='index', columns=['Ave.', 'Var.', 'Med.'])"
   ]
  },
  {
   "cell_type": "code",
   "execution_count": 11,
   "id": "f8366ed9",
   "metadata": {},
   "outputs": [
    {
     "data": {
      "text/html": [
       "<div>\n",
       "<style scoped>\n",
       "    .dataframe tbody tr th:only-of-type {\n",
       "        vertical-align: middle;\n",
       "    }\n",
       "\n",
       "    .dataframe tbody tr th {\n",
       "        vertical-align: top;\n",
       "    }\n",
       "\n",
       "    .dataframe thead th {\n",
       "        text-align: right;\n",
       "    }\n",
       "</style>\n",
       "<table border=\"1\" class=\"dataframe\">\n",
       "  <thead>\n",
       "    <tr style=\"text-align: right;\">\n",
       "      <th></th>\n",
       "      <th>Ave.</th>\n",
       "      <th>Var.</th>\n",
       "      <th>Med.</th>\n",
       "    </tr>\n",
       "  </thead>\n",
       "  <tbody>\n",
       "    <tr>\n",
       "      <th>list_append</th>\n",
       "      <td>0.008111</td>\n",
       "      <td>0.000041</td>\n",
       "      <td>0.007973</td>\n",
       "    </tr>\n",
       "    <tr>\n",
       "      <th>from_dict_columns</th>\n",
       "      <td>0.009339</td>\n",
       "      <td>0.000051</td>\n",
       "      <td>0.008951</td>\n",
       "    </tr>\n",
       "    <tr>\n",
       "      <th>from_dict_index</th>\n",
       "      <td>0.008688</td>\n",
       "      <td>0.000048</td>\n",
       "      <td>0.007974</td>\n",
       "    </tr>\n",
       "  </tbody>\n",
       "</table>\n",
       "</div>"
      ],
      "text/plain": [
       "                       Ave.      Var.      Med.\n",
       "list_append        0.008111  0.000041  0.007973\n",
       "from_dict_columns  0.009339  0.000051  0.008951\n",
       "from_dict_index    0.008688  0.000048  0.007974"
      ]
     },
     "execution_count": 11,
     "metadata": {},
     "output_type": "execute_result"
    }
   ],
   "source": [
    "df_results"
   ]
  },
  {
   "cell_type": "code",
   "execution_count": null,
   "id": "9a969970",
   "metadata": {},
   "outputs": [],
   "source": []
  }
 ],
 "metadata": {
  "kernelspec": {
   "display_name": "Python 3 (ipykernel)",
   "language": "python",
   "name": "python3"
  },
  "language_info": {
   "codemirror_mode": {
    "name": "ipython",
    "version": 3
   },
   "file_extension": ".py",
   "mimetype": "text/x-python",
   "name": "python",
   "nbconvert_exporter": "python",
   "pygments_lexer": "ipython3",
   "version": "3.9.7"
  }
 },
 "nbformat": 4,
 "nbformat_minor": 5
}
