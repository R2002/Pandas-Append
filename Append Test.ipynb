{
 "cells": [
  {
   "cell_type": "code",
   "execution_count": 1,
   "id": "5cd875ff",
   "metadata": {},
   "outputs": [],
   "source": [
    "import pandas as pd\n",
    "import numpy as np\n",
    "import time, random\n",
    "from tqdm import tqdm"
   ]
  },
  {
   "cell_type": "code",
   "execution_count": 2,
   "id": "32ede041",
   "metadata": {},
   "outputs": [],
   "source": [
    "iter_num = 10000"
   ]
  },
  {
   "cell_type": "markdown",
   "id": "e5c4f5a1",
   "metadata": {},
   "source": [
    "# List Append"
   ]
  },
  {
   "cell_type": "code",
   "execution_count": 3,
   "id": "bd5eae09",
   "metadata": {},
   "outputs": [
    {
     "name": "stderr",
     "output_type": "stream",
     "text": [
      "100%|██████████| 10000/10000 [00:00<00:00, 629425.69it/s]"
     ]
    },
    {
     "name": "stdout",
     "output_type": "stream",
     "text": [
      "0.028s\n",
      "(10000, 2)\n"
     ]
    },
    {
     "name": "stderr",
     "output_type": "stream",
     "text": [
      "\n"
     ]
    }
   ],
   "source": [
    "time_start = time.time()\n",
    "\n",
    "list_temp = []\n",
    "for i in tqdm(range(iter_num)):\n",
    "    a = random.randint(50, 100)\n",
    "    b = random.randint(50, 100)\n",
    "    list_temp.append([a, b])\n",
    "\n",
    "df = pd.DataFrame(list_temp, columns=['input_a', 'input_b'])\n",
    "time_delta = time.time() - time_start\n",
    "print(\"%.3fs\" % time_delta)\n",
    "print(df.shape)"
   ]
  },
  {
   "cell_type": "markdown",
   "id": "1877e3cd",
   "metadata": {},
   "source": [
    "# Numpy Append"
   ]
  },
  {
   "cell_type": "code",
   "execution_count": 4,
   "id": "9ca42609",
   "metadata": {},
   "outputs": [
    {
     "name": "stderr",
     "output_type": "stream",
     "text": [
      "100%|██████████| 10000/10000 [00:00<00:00, 162354.71it/s]"
     ]
    },
    {
     "name": "stdout",
     "output_type": "stream",
     "text": [
      "0.063s\n",
      "(10000, 2)\n"
     ]
    },
    {
     "name": "stderr",
     "output_type": "stream",
     "text": [
      "\n"
     ]
    }
   ],
   "source": [
    "time_start = time.time()\n",
    "\n",
    "list_temp = np.array([])\n",
    "for i in tqdm(range(iter_num)):\n",
    "    a = random.randint(50, 100)\n",
    "    b = random.randint(50, 100)\n",
    "    data_temp = np.array([[a, b]])\n",
    "    if len(list_temp) > 0:\n",
    "        list_temp = np.append(list_temp, data_temp, axis=0)\n",
    "    else:\n",
    "        list_temp = data_temp\n",
    "\n",
    "df = pd.DataFrame(list_temp, columns=['input_a', 'input_b'])\n",
    "time_delta = time.time() - time_start\n",
    "print(\"%.3fs\" % time_delta)\n",
    "print(df.shape)"
   ]
  },
  {
   "cell_type": "markdown",
   "id": "b8b76213",
   "metadata": {},
   "source": [
    "# Pandas Append"
   ]
  },
  {
   "cell_type": "code",
   "execution_count": 5,
   "id": "41384c4f",
   "metadata": {},
   "outputs": [
    {
     "name": "stderr",
     "output_type": "stream",
     "text": [
      "100%|██████████| 10000/10000 [00:05<00:00, 1870.42it/s]"
     ]
    },
    {
     "name": "stdout",
     "output_type": "stream",
     "text": [
      "5.349s\n",
      "(10000, 2)\n"
     ]
    },
    {
     "name": "stderr",
     "output_type": "stream",
     "text": [
      "\n"
     ]
    }
   ],
   "source": [
    "time_start = time.time()\n",
    "\n",
    "df = pd.DataFrame(columns=['input_a', 'input_b'])\n",
    "for i in tqdm(range(iter_num)):\n",
    "    a = random.randint(50, 100)\n",
    "    b = random.randint(50, 100)\n",
    "    df_temp = pd.Series([a, b], index=df.columns)\n",
    "    df = df.append(df_temp, ignore_index=True)\n",
    "\n",
    "time_delta = time.time() - time_start\n",
    "print(\"%.3fs\" % time_delta)\n",
    "print(df.shape)"
   ]
  },
  {
   "cell_type": "markdown",
   "id": "940ed6e9",
   "metadata": {},
   "source": [
    "# Pandas Concat"
   ]
  },
  {
   "cell_type": "code",
   "execution_count": 6,
   "id": "184b2d8a",
   "metadata": {},
   "outputs": [
    {
     "name": "stderr",
     "output_type": "stream",
     "text": [
      "100%|██████████| 10000/10000 [00:03<00:00, 2971.48it/s]"
     ]
    },
    {
     "name": "stdout",
     "output_type": "stream",
     "text": [
      "3.368s\n",
      "(10000, 2)\n"
     ]
    },
    {
     "name": "stderr",
     "output_type": "stream",
     "text": [
      "\n"
     ]
    }
   ],
   "source": [
    "time_start = time.time()\n",
    "\n",
    "df = pd.DataFrame(columns=['input_a', 'input_b'])\n",
    "for i in tqdm(range(iter_num)):\n",
    "    a = random.randint(50, 100)\n",
    "    b = random.randint(50, 100)\n",
    "    df_temp = pd.DataFrame([[a, b]], index=[i], columns=df.columns)\n",
    "    df = pd.concat([df, df_temp], axis=0)\n",
    "\n",
    "time_delta = time.time() - time_start\n",
    "print(\"%.3fs\" % time_delta)\n",
    "print(df.shape)"
   ]
  },
  {
   "cell_type": "markdown",
   "id": "3bb74b20",
   "metadata": {},
   "source": [
    "# Pandas Loc"
   ]
  },
  {
   "cell_type": "code",
   "execution_count": 7,
   "id": "a1389579",
   "metadata": {},
   "outputs": [
    {
     "name": "stderr",
     "output_type": "stream",
     "text": [
      "100%|██████████| 10000/10000 [00:07<00:00, 1341.04it/s]"
     ]
    },
    {
     "name": "stdout",
     "output_type": "stream",
     "text": [
      "7.459s\n",
      "(10000, 2)\n"
     ]
    },
    {
     "name": "stderr",
     "output_type": "stream",
     "text": [
      "\n"
     ]
    }
   ],
   "source": [
    "time_start = time.time()\n",
    "\n",
    "df = pd.DataFrame(columns=['input_a', 'input_b'])\n",
    "for i in tqdm(range(iter_num)):\n",
    "    a = random.randint(50, 100)\n",
    "    b = random.randint(50, 100)\n",
    "    df.loc[i] = [a, b]\n",
    "\n",
    "time_delta = time.time() - time_start\n",
    "print(\"%.3fs\" % time_delta)\n",
    "print(df.shape)"
   ]
  },
  {
   "cell_type": "markdown",
   "id": "4b795e2f",
   "metadata": {},
   "source": [
    "# Pandas from_dict"
   ]
  },
  {
   "cell_type": "markdown",
   "id": "a38386fb",
   "metadata": {},
   "source": [
    "## key='columns' (default)"
   ]
  },
  {
   "cell_type": "code",
   "execution_count": 8,
   "id": "5dd49bdd",
   "metadata": {},
   "outputs": [
    {
     "name": "stderr",
     "output_type": "stream",
     "text": [
      "100%|██████████| 10000/10000 [00:00<00:00, 496050.33it/s]"
     ]
    },
    {
     "name": "stdout",
     "output_type": "stream",
     "text": [
      "0.026s\n",
      "(10000, 2)\n"
     ]
    },
    {
     "name": "stderr",
     "output_type": "stream",
     "text": [
      "\n"
     ]
    }
   ],
   "source": [
    "time_start = time.time()\n",
    "\n",
    "dict_col = {'input_a': [], 'input_b': []}\n",
    "for i in tqdm(range(iter_num)):\n",
    "    a = random.randint(50, 100)\n",
    "    b = random.randint(50, 100)\n",
    "    dict_col['input_a'].append(a)\n",
    "    dict_col['input_b'].append(b)\n",
    "\n",
    "df = pd.DataFrame.from_dict(dict_col, orient='columns')\n",
    "time_delta = time.time() - time_start\n",
    "print(\"%.3fs\" % time_delta)\n",
    "print(df.shape)"
   ]
  },
  {
   "cell_type": "markdown",
   "id": "2b10b4a7",
   "metadata": {},
   "source": [
    "## key='index'"
   ]
  },
  {
   "cell_type": "code",
   "execution_count": 9,
   "id": "2385aea4",
   "metadata": {},
   "outputs": [
    {
     "name": "stderr",
     "output_type": "stream",
     "text": [
      "100%|██████████| 10000/10000 [00:00<00:00, 585453.23it/s]"
     ]
    },
    {
     "name": "stdout",
     "output_type": "stream",
     "text": [
      "0.023s\n",
      "(10000, 2)\n"
     ]
    },
    {
     "name": "stderr",
     "output_type": "stream",
     "text": [
      "\n"
     ]
    }
   ],
   "source": [
    "time_start = time.time()\n",
    "\n",
    "dict_idx = {}\n",
    "for i in tqdm(range(iter_num)):\n",
    "    a = random.randint(50, 100)\n",
    "    b = random.randint(50, 100)\n",
    "    dict_idx[i] = [a, b]\n",
    "\n",
    "df = pd.DataFrame.from_dict(dict_idx, orient='index', columns=['input_a', 'input_b'])\n",
    "time_delta = time.time() - time_start\n",
    "print(\"%.3fs\" % time_delta)\n",
    "print(df.shape)"
   ]
  },
  {
   "cell_type": "code",
   "execution_count": null,
   "id": "856a29c3",
   "metadata": {},
   "outputs": [],
   "source": []
  }
 ],
 "metadata": {
  "kernelspec": {
   "display_name": "Python 3 (ipykernel)",
   "language": "python",
   "name": "python3"
  },
  "language_info": {
   "codemirror_mode": {
    "name": "ipython",
    "version": 3
   },
   "file_extension": ".py",
   "mimetype": "text/x-python",
   "name": "python",
   "nbconvert_exporter": "python",
   "pygments_lexer": "ipython3",
   "version": "3.9.7"
  }
 },
 "nbformat": 4,
 "nbformat_minor": 5
}
